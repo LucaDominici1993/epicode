{
 "cells": [
  {
   "cell_type": "markdown",
   "metadata": {},
   "source": [
    "## Esecitazione finale modulo Python"
   ]
  },
  {
   "cell_type": "code",
   "execution_count": 1,
   "metadata": {},
   "outputs": [
    {
     "data": {
      "text/plain": [
       "((276104, 67),\n",
       " ['iso_code',\n",
       "  'continent',\n",
       "  'location',\n",
       "  'date',\n",
       "  'total_cases',\n",
       "  'new_cases',\n",
       "  'new_cases_smoothed',\n",
       "  'total_deaths',\n",
       "  'new_deaths',\n",
       "  'new_deaths_smoothed',\n",
       "  'total_cases_per_million',\n",
       "  'new_cases_per_million',\n",
       "  'new_cases_smoothed_per_million',\n",
       "  'total_deaths_per_million',\n",
       "  'new_deaths_per_million',\n",
       "  'new_deaths_smoothed_per_million',\n",
       "  'reproduction_rate',\n",
       "  'icu_patients',\n",
       "  'icu_patients_per_million',\n",
       "  'hosp_patients',\n",
       "  'hosp_patients_per_million',\n",
       "  'weekly_icu_admissions',\n",
       "  'weekly_icu_admissions_per_million',\n",
       "  'weekly_hosp_admissions',\n",
       "  'weekly_hosp_admissions_per_million',\n",
       "  'total_tests',\n",
       "  'new_tests',\n",
       "  'total_tests_per_thousand',\n",
       "  'new_tests_per_thousand',\n",
       "  'new_tests_smoothed',\n",
       "  'new_tests_smoothed_per_thousand',\n",
       "  'positive_rate',\n",
       "  'tests_per_case',\n",
       "  'tests_units',\n",
       "  'total_vaccinations',\n",
       "  'people_vaccinated',\n",
       "  'people_fully_vaccinated',\n",
       "  'total_boosters',\n",
       "  'new_vaccinations',\n",
       "  'new_vaccinations_smoothed',\n",
       "  'total_vaccinations_per_hundred',\n",
       "  'people_vaccinated_per_hundred',\n",
       "  'people_fully_vaccinated_per_hundred',\n",
       "  'total_boosters_per_hundred',\n",
       "  'new_vaccinations_smoothed_per_million',\n",
       "  'new_people_vaccinated_smoothed',\n",
       "  'new_people_vaccinated_smoothed_per_hundred',\n",
       "  'stringency_index',\n",
       "  'population_density',\n",
       "  'median_age',\n",
       "  'aged_65_older',\n",
       "  'aged_70_older',\n",
       "  'gdp_per_capita',\n",
       "  'extreme_poverty',\n",
       "  'cardiovasc_death_rate',\n",
       "  'diabetes_prevalence',\n",
       "  'female_smokers',\n",
       "  'male_smokers',\n",
       "  'handwashing_facilities',\n",
       "  'hospital_beds_per_thousand',\n",
       "  'life_expectancy',\n",
       "  'human_development_index',\n",
       "  'population',\n",
       "  'excess_mortality_cumulative_absolute',\n",
       "  'excess_mortality_cumulative',\n",
       "  'excess_mortality',\n",
       "  'excess_mortality_cumulative_per_million'])"
      ]
     },
     "execution_count": 1,
     "metadata": {},
     "output_type": "execute_result"
    }
   ],
   "source": [
    "import pandas as pd\n",
    "\n",
    "# Carico il dataset\n",
    "file_path = r'C:\\Users\\Luca_\\OneDrive\\Desktop\\Esercitazioni Finali Epicode\\04 Modulo Python\\owid-covid-data.csv'\n",
    "df = pd.read_csv(file_path)\n",
    "\n",
    "# Dimensioni del dataset\n",
    "dataset_dimensions = df.shape\n",
    "\n",
    "# Intestazione del dataset (primi elementi)\n",
    "dataset_head = df.head()\n",
    "\n",
    "dataset_dimensions, dataset_head.columns.tolist()"
   ]
  },
  {
   "cell_type": "markdown",
   "metadata": {},
   "source": [
    "## Casi totali per continente"
   ]
  },
  {
   "cell_type": "code",
   "execution_count": 3,
   "metadata": {},
   "outputs": [
    {
     "data": {
      "text/plain": [
       "continent\n",
       "Africa            13130839.0\n",
       "Asia             301134603.0\n",
       "Europe           251324262.0\n",
       "North America    124501443.0\n",
       "Oceania           14646547.0\n",
       "South America     68710841.0\n",
       "Name: total_cases, dtype: float64"
      ]
     },
     "execution_count": 3,
     "metadata": {},
     "output_type": "execute_result"
    }
   ],
   "source": [
    "# Calcolo il numero totale di casi per ogni paese\n",
    "latest_cases_per_country = df.groupby(['continent', 'location'])['total_cases'].last().dropna()\n",
    "\n",
    "# Sommo i casi più recenti per ogni continente\n",
    "total_cases_latest_by_continent = latest_cases_per_country.groupby('continent').sum()\n",
    "\n",
    "total_cases_latest_by_continent\n",
    "\n"
   ]
  },
  {
   "cell_type": "markdown",
   "metadata": {},
   "source": [
    "## Minimo, massimo, media, e percentuale rispetto al numero dei casi totali nel mondo di due continenti"
   ]
  },
  {
   "cell_type": "code",
   "execution_count": 5,
   "metadata": {},
   "outputs": [
    {
     "data": {
      "text/plain": [
       "{'Europe': {'Statistics': {'Min': 1.0,\n",
       "   'Max': 38997490.0,\n",
       "   'Mean': 2554453.769808011},\n",
       "  'Percent of World Cases': 7.841141026359851},\n",
       " 'Asia': {'Statistics': {'Min': 1.0,\n",
       "   'Max': 99322525.0,\n",
       "   'Mean': 3004223.288836846},\n",
       "  'Percent of World Cases': 8.058809843418961}}"
      ]
     },
     "execution_count": 5,
     "metadata": {},
     "output_type": "execute_result"
    }
   ],
   "source": [
    "def compare_continents_stats(df, continent1, continent2):\n",
    "    \"\"\"\n",
    "    Confronta i descrittori statistici (minimo, massimo, media) dei casi totali di COVID-19\n",
    "    per due continenti specificati, e calcola la loro percentuale rispetto al totale mondiale.\n",
    "\n",
    "    :param df: DataFrame contenente i dati del COVID-19.\n",
    "    :param continent1: Il primo continente da confrontare.\n",
    "    :param continent2: Il secondo continente da confrontare.\n",
    "    :return: Un dizionario con i descrittori statistici per ogni continente e la loro percentuale rispetto al totale mondiale.\n",
    "    \"\"\"\n",
    "    # Filtrare i dati per i due continenti\n",
    "    df_continent1 = df[df['continent'] == continent1]\n",
    "    df_continent2 = df[df['continent'] == continent2]\n",
    "\n",
    "    # Calcolare i descrittori statistici\n",
    "    stats_continent1 = {\n",
    "        \"Min\": df_continent1['total_cases'].min(),\n",
    "        \"Max\": df_continent1['total_cases'].max(),\n",
    "        \"Mean\": df_continent1['total_cases'].mean()\n",
    "    }\n",
    "    stats_continent2 = {\n",
    "        \"Min\": df_continent2['total_cases'].min(),\n",
    "        \"Max\": df_continent2['total_cases'].max(),\n",
    "        \"Mean\": df_continent2['total_cases'].mean()\n",
    "    }\n",
    "\n",
    "    # Calcolo della percentuale totale dei casi mondiali\n",
    "    total_world_cases = df['total_cases'].sum()\n",
    "    total_cases_continent1 = df_continent1['total_cases'].sum()\n",
    "    total_cases_continent2 = df_continent2['total_cases'].sum()\n",
    "\n",
    "    percent_continent1 = (total_cases_continent1 / total_world_cases) * 100\n",
    "    percent_continent2 = (total_cases_continent2 / total_world_cases) * 100\n",
    "\n",
    "    return {\n",
    "        continent1: {\n",
    "            \"Statistics\": stats_continent1,\n",
    "            \"Percent of World Cases\": percent_continent1\n",
    "        },\n",
    "        continent2: {\n",
    "            \"Statistics\": stats_continent2,\n",
    "            \"Percent of World Cases\": percent_continent2\n",
    "        }\n",
    "    }\n",
    "\n",
    "# Esempio di utilizzo della funzione con l'Europa e l'Asia\n",
    "compare_continents_stats(df, \"Europe\", \"Asia\")\n"
   ]
  },
  {
   "cell_type": "markdown",
   "metadata": {},
   "source": [
    "## Vaccinazioni totali per due continenti e calcolo della loro percentuale rispetto al totale mondiale"
   ]
  },
  {
   "cell_type": "code",
   "execution_count": 6,
   "metadata": {},
   "outputs": [
    {
     "data": {
      "text/plain": [
       "{'Europe': {'Statistics': {'Min': 0.0,\n",
       "   'Max': 192221468.0,\n",
       "   'Mean': 27451374.25516207},\n",
       "  'Percent of World Vaccinations': 1.8454110187680581},\n",
       " 'Asia': {'Statistics': {'Min': 0.0,\n",
       "   'Max': 3491077000.0,\n",
       "   'Mean': 226844667.2449782},\n",
       "  'Percent of World Vaccinations': 10.888194027423197}}"
      ]
     },
     "execution_count": 6,
     "metadata": {},
     "output_type": "execute_result"
    }
   ],
   "source": [
    "def compare_continents_vaccinations(df, continent1, continent2):\n",
    "    \"\"\"\n",
    "    Confronta i descrittori statistici (minimo, massimo, media) delle vaccinazioni totali\n",
    "    per due continenti specificati, e calcola la loro percentuale rispetto al totale mondiale.\n",
    "\n",
    "    :param df: DataFrame contenente i dati del COVID-19.\n",
    "    :param continent1: Il primo continente da confrontare.\n",
    "    :param continent2: Il secondo continente da confrontare.\n",
    "    :return: Un dizionario con i descrittori statistici per ogni continente e la loro percentuale rispetto al totale mondiale.\n",
    "    \"\"\"\n",
    "    # Filtrare i dati per i due continenti\n",
    "    df_continent1 = df[df['continent'] == continent1]\n",
    "    df_continent2 = df[df['continent'] == continent2]\n",
    "\n",
    "    # Calcolare i descrittori statistici\n",
    "    stats_continent1 = {\n",
    "        \"Min\": df_continent1['total_vaccinations'].min(),\n",
    "        \"Max\": df_continent1['total_vaccinations'].max(),\n",
    "        \"Mean\": df_continent1['total_vaccinations'].mean()\n",
    "    }\n",
    "    stats_continent2 = {\n",
    "        \"Min\": df_continent2['total_vaccinations'].min(),\n",
    "        \"Max\": df_continent2['total_vaccinations'].max(),\n",
    "        \"Mean\": df_continent2['total_vaccinations'].mean()\n",
    "    }\n",
    "\n",
    "    # Calcolo della percentuale totale delle vaccinazioni mondiali\n",
    "    total_world_vaccinations = df['total_vaccinations'].sum()\n",
    "    total_vaccinations_continent1 = df_continent1['total_vaccinations'].sum()\n",
    "    total_vaccinations_continent2 = df_continent2['total_vaccinations'].sum()\n",
    "\n",
    "    percent_continent1 = (total_vaccinations_continent1 / total_world_vaccinations) * 100\n",
    "    percent_continent2 = (total_vaccinations_continent2 / total_world_vaccinations) * 100\n",
    "\n",
    "    return {\n",
    "        continent1: {\n",
    "            \"Statistics\": stats_continent1,\n",
    "            \"Percent of World Vaccinations\": percent_continent1\n",
    "        },\n",
    "        continent2: {\n",
    "            \"Statistics\": stats_continent2,\n",
    "            \"Percent of World Vaccinations\": percent_continent2\n",
    "        }\n",
    "    }\n",
    "\n",
    "# Esempio di utilizzo della funzione con l'Europa e l'Asia\n",
    "compare_continents_vaccinations(df, \"Europe\", \"Asia\")\n"
   ]
  },
  {
   "cell_type": "markdown",
   "metadata": {},
   "source": [
    "## Conclusioni\n",
    "In base all'analisi dei dati COVID-19, si evidenziano differenze significative tra Europa, Sud America e Oceania sia per quanto riguarda i casi totali che le vaccinazioni. L'Europa ha avuto più casi di COVID-19 e vaccinazioni rispetto al Sud America e all'Oceania. Con circa 251,3 milioni di casi, l'Europa supera nettamente i 68,7 milioni del Sud America e i 14,6 milioni dell'Oceania. \n",
    "\n",
    "Per le vaccinazioni, l'Europa mostra numeri superiori rispetto al Sud America e all'Oceania. Mentre l'Europa e il Sud America mostrano percentuali maggiori sia in termini di casi che di vaccinazioni, l'Oceania rimane significativamente più bassa in entrambi i parametri, riflettendo differenze nelle dimensioni della popolazione, nella risposta alla pandemia e nell'accesso alle risorse sanitarie.\n",
    "\n"
   ]
  }
 ],
 "metadata": {
  "kernelspec": {
   "display_name": "Python 3",
   "language": "python",
   "name": "python3"
  },
  "language_info": {
   "codemirror_mode": {
    "name": "ipython",
    "version": 3
   },
   "file_extension": ".py",
   "mimetype": "text/x-python",
   "name": "python",
   "nbconvert_exporter": "python",
   "pygments_lexer": "ipython3",
   "version": "3.12.0"
  }
 },
 "nbformat": 4,
 "nbformat_minor": 2
}
